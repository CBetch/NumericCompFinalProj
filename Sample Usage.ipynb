{
 "cells": [
  {
   "cell_type": "code",
   "execution_count": null,
   "metadata": {},
   "outputs": [],
   "source": [
    "# Download Data\n",
    "from DownloadData import download_and_extract_data\n",
    "\n",
    "download_and_extract_data()"
   ]
  },
  {
   "cell_type": "code",
   "execution_count": 1,
   "metadata": {},
   "outputs": [
    {
     "name": "stdout",
     "output_type": "stream",
     "text": [
      "Initialized event with:\n",
      "dates: 1998-01-01 to 1998-12-31\n",
      "lon bounds (250.95, 257.95)\n",
      "lat bounds (37.0, 41.0\n"
     ]
    }
   ],
   "source": [
    "from EventClass import Event\n",
    "\n",
    "my_event = Event(    \n",
    "    lat_min=37.0,\n",
    "    lat_max=41.0,\n",
    "    lon_min=-109.05,\n",
    "    lon_max=-102.05,\n",
    "    start_date=\"1998-01-01\",\n",
    "    end_date=\"1998-12-31\",\n",
    ")"
   ]
  },
  {
   "cell_type": "code",
   "execution_count": 2,
   "metadata": {},
   "outputs": [
    {
     "name": "stdout",
     "output_type": "stream",
     "text": [
      "Event(start_date=1998-01-01, end_date=1998-12-31, lat_min=37.0, lat_max=41.0, lon_min=250.95, lon_max=257.95)\n",
      "Data Shape: (365, 16, 28)\n",
      "(0.0, 239.58999633789062, nan)\n",
      "1998-01-01\n",
      "37.125\n",
      "251.125\n"
     ]
    }
   ],
   "source": [
    "print(my_event)\n",
    "data = my_event.get_data()\n",
    "dates = my_event.get_dates()\n",
    "lats = my_event.get_lats()\n",
    "lons = my_event.get_lons()\n",
    "print(f\"Data Shape: {data.shape}\")\n",
    "print(data[0][0][0])\n",
    "print(dates[0])\n",
    "print(lats[0])\n",
    "print(lons[0])"
   ]
  },
  {
   "cell_type": "code",
   "execution_count": null,
   "metadata": {},
   "outputs": [],
   "source": []
  }
 ],
 "metadata": {
  "kernelspec": {
   "display_name": "Python 3",
   "language": "python",
   "name": "python3"
  },
  "language_info": {
   "codemirror_mode": {
    "name": "ipython",
    "version": 3
   },
   "file_extension": ".py",
   "mimetype": "text/x-python",
   "name": "python",
   "nbconvert_exporter": "python",
   "pygments_lexer": "ipython3",
   "version": "3.12.0"
  }
 },
 "nbformat": 4,
 "nbformat_minor": 2
}
