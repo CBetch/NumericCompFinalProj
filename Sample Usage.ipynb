{
 "cells": [
  {
   "cell_type": "code",
   "execution_count": null,
   "metadata": {},
   "outputs": [],
   "source": [
    "# Download Data\n",
    "from DownloadData import download_and_extract_data, extract_data_only\n",
    "\n",
    "download_and_extract_data()\n",
    "# If the download fails (most likely due to a data overflow), \n",
    "# run this function to extract data files from all the cmorph tar files so you can at least use what was downloaded\n",
    "# extract_data_only()"
   ]
  },
  {
   "cell_type": "code",
   "execution_count": null,
   "metadata": {},
   "outputs": [],
   "source": [
    "from EventClass import Event\n",
    "\n",
    "my_event = Event(    \n",
    "    lat_min=37.0,\n",
    "    lat_max=41.0,\n",
    "    lon_min=-109.05,\n",
    "    lon_max=-102.05,\n",
    "    start_date=\"1998-01-01\",\n",
    "    end_date=\"1998-12-31\",\n",
    ")"
   ]
  },
  {
   "cell_type": "code",
   "execution_count": null,
   "metadata": {},
   "outputs": [],
   "source": [
    "print(my_event)\n",
    "data = my_event.get_data()\n",
    "dates = my_event.get_dates()\n",
    "lats = my_event.get_lats()\n",
    "lons = my_event.get_lons()\n",
    "print(f\"Data Shape: {data.shape}\")\n",
    "print(data[0][0][0])\n",
    "print(dates[0])\n",
    "print(lats[0])\n",
    "print(lons[0])"
   ]
  },
  {
   "cell_type": "code",
   "execution_count": null,
   "metadata": {},
   "outputs": [],
   "source": []
  }
 ],
 "metadata": {
  "kernelspec": {
   "display_name": "Python 3",
   "language": "python",
   "name": "python3"
  },
  "language_info": {
   "codemirror_mode": {
    "name": "ipython",
    "version": 3
   },
   "file_extension": ".py",
   "mimetype": "text/x-python",
   "name": "python",
   "nbconvert_exporter": "python",
   "pygments_lexer": "ipython3",
   "version": "3.12.0"
  }
 },
 "nbformat": 4,
 "nbformat_minor": 2
}
